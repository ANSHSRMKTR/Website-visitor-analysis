{
  "metadata": {
    "kernelspec": {
      "name": "python",
      "display_name": "Python (Pyodide)",
      "language": "python"
    },
    "language_info": {
      "codemirror_mode": {
        "name": "python",
        "version": 3
      },
      "file_extension": ".py",
      "mimetype": "text/x-python",
      "name": "python",
      "nbconvert_exporter": "python",
      "pygments_lexer": "ipython3",
      "version": "3.8"
    }
  },
  "nbformat_minor": 4,
  "nbformat": 4,
  "cells": [
    {
      "cell_type": "code",
      "source": "pip install \"numpy>=1.16.5, <1.23.0\" --user\n\n\nimport pandas as pd\nimport matplotlib.pyplot as plt \nimport plotly express as px \nimport plotly graph_objects as go \nfrom statsmodels.tsa.seasonal import seasonal_decompose \nfrom statsmodels.graphics.tsaplots import plot_pacf\nfrom statsmodels.tsa.arima_model import ARIMA\nimport statsmodels.api as sm\n\n\n\ndata = pd.read_csv(\"C:|\\Users|\\Dell|\\Downloads\\\\daily-website-visitors.csv\")\nprint(data.head())\n\n\n\n\n\ndata[\"Date\"] = pd.to_datetime(data[\"Date\"],format=\"%m/%d/%Y\" )\nprint(data.info())\n\n\n\n\nplt.style.use('fivethirtyeight')\nplt.figure(figsize=(15,10))\nplt.plot(data[\"Date\"], data[\"First.Time.Visits\"])\nplt.title(\"First-Time visitors\")\nplt.show()\n\n\n\n\nplt.style.use('fivethirtyeight')\nplt.figure(figsize=(15,100))\nplt.plot(data[\"Date\"], data[\"Returning Visits\"])\nplt.title(\"Visitors returning to the website\") \nplt.show()\n           \n\n\nplt.style.use('fivethirtyeight')\nplt. figure(figsize=(15, 8))\nplt.bar (data[\"Day\"], data[\"Page. Loads\"])\nplt.title(\"Day-wise Traffic Count\")\nplt.xlabel(\"Day of the Week\")\nplt.ylabel (\"Page Loads\")\nplt. show()",
      "metadata": {
        "trusted": true
      },
      "outputs": [],
      "execution_count": null
    }
  ]
}